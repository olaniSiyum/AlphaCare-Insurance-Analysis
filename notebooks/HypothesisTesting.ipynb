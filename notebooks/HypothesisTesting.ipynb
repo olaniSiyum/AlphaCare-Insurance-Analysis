{
 "cells": [
  {
   "cell_type": "code",
   "execution_count": 16,
   "metadata": {},
   "outputs": [],
   "source": [
    "import pandas as pd\n",
    "import numpy as np\n",
    "import matplotlib.pyplot as plt\n",
    "import seaborn as sns"
   ]
  },
  {
   "cell_type": "code",
   "execution_count": 17,
   "metadata": {},
   "outputs": [],
   "source": [
    "# Load the dataset\n",
    "data = pd.read_csv('../data/data_cleaned.csv', low_memory=False)"
   ]
  },
  {
   "cell_type": "code",
   "execution_count": 18,
   "metadata": {},
   "outputs": [
    {
     "name": "stdout",
     "output_type": "stream",
     "text": [
      "<class 'pandas.core.frame.DataFrame'>\n",
      "RangeIndex: 999544 entries, 0 to 999543\n",
      "Data columns (total 51 columns):\n",
      " #   Column                    Non-Null Count   Dtype  \n",
      "---  ------                    --------------   -----  \n",
      " 0   UnderwrittenCoverID       999544 non-null  int64  \n",
      " 1   PolicyID                  999544 non-null  int64  \n",
      " 2   TransactionMonth          999544 non-null  object \n",
      " 3   IsVATRegistered           999544 non-null  bool   \n",
      " 4   Citizenship               999544 non-null  object \n",
      " 5   LegalType                 999544 non-null  object \n",
      " 6   Title                     999544 non-null  object \n",
      " 7   Language                  999544 non-null  object \n",
      " 8   AccountType               999544 non-null  object \n",
      " 9   MaritalStatus             999544 non-null  object \n",
      " 10  Gender                    999544 non-null  object \n",
      " 11  Country                   999544 non-null  object \n",
      " 12  Province                  999544 non-null  object \n",
      " 13  PostalCode                999544 non-null  int64  \n",
      " 14  MainCrestaZone            999544 non-null  object \n",
      " 15  SubCrestaZone             999544 non-null  object \n",
      " 16  ItemType                  999544 non-null  object \n",
      " 17  mmcode                    999544 non-null  float64\n",
      " 18  VehicleType               999544 non-null  object \n",
      " 19  RegistrationYear          999544 non-null  int64  \n",
      " 20  make                      999544 non-null  object \n",
      " 21  Model                     999544 non-null  object \n",
      " 22  Cylinders                 999544 non-null  float64\n",
      " 23  cubiccapacity             999544 non-null  float64\n",
      " 24  kilowatts                 999544 non-null  float64\n",
      " 25  bodytype                  999544 non-null  object \n",
      " 26  NumberOfDoors             999544 non-null  float64\n",
      " 27  VehicleIntroDate          999544 non-null  object \n",
      " 28  AlarmImmobiliser          999544 non-null  object \n",
      " 29  TrackingDevice            999544 non-null  object \n",
      " 30  CapitalOutstanding        999544 non-null  object \n",
      " 31  NewVehicle                999544 non-null  object \n",
      " 32  SumInsured                999544 non-null  float64\n",
      " 33  TermFrequency             999544 non-null  object \n",
      " 34  CalculatedPremiumPerTerm  999544 non-null  float64\n",
      " 35  ExcessSelected            999544 non-null  object \n",
      " 36  CoverCategory             999544 non-null  object \n",
      " 37  CoverType                 999544 non-null  object \n",
      " 38  CoverGroup                999544 non-null  object \n",
      " 39  Section                   999544 non-null  object \n",
      " 40  Product                   999544 non-null  object \n",
      " 41  StatutoryClass            999544 non-null  object \n",
      " 42  StatutoryRiskType         999544 non-null  object \n",
      " 43  TotalPremium              999544 non-null  float64\n",
      " 44  TotalClaims               999544 non-null  float64\n",
      " 45  log_cubiccapacity         999544 non-null  float64\n",
      " 46  log_kilowatts             999544 non-null  float64\n",
      " 47  sqrt_mmcode               999544 non-null  float64\n",
      " 48  scaled_log_cubiccapacity  999544 non-null  float64\n",
      " 49  scaled_log_kilowatts      999544 non-null  float64\n",
      " 50  scaled_sqrt_mmcode        999544 non-null  float64\n",
      "dtypes: bool(1), float64(15), int64(4), object(31)\n",
      "memory usage: 382.2+ MB\n"
     ]
    }
   ],
   "source": [
    "data.info()"
   ]
  },
  {
   "cell_type": "code",
   "execution_count": 19,
   "metadata": {},
   "outputs": [
    {
     "data": {
      "text/plain": [
       "Index(['UnderwrittenCoverID', 'PolicyID', 'TransactionMonth',\n",
       "       'IsVATRegistered', 'Citizenship', 'LegalType', 'Title', 'Language',\n",
       "       'AccountType', 'MaritalStatus', 'Gender', 'Country', 'Province',\n",
       "       'PostalCode', 'MainCrestaZone', 'SubCrestaZone', 'ItemType', 'mmcode',\n",
       "       'VehicleType', 'RegistrationYear', 'make', 'Model', 'Cylinders',\n",
       "       'cubiccapacity', 'kilowatts', 'bodytype', 'NumberOfDoors',\n",
       "       'VehicleIntroDate', 'AlarmImmobiliser', 'TrackingDevice',\n",
       "       'CapitalOutstanding', 'NewVehicle', 'SumInsured', 'TermFrequency',\n",
       "       'CalculatedPremiumPerTerm', 'ExcessSelected', 'CoverCategory',\n",
       "       'CoverType', 'CoverGroup', 'Section', 'Product', 'StatutoryClass',\n",
       "       'StatutoryRiskType', 'TotalPremium', 'TotalClaims', 'log_cubiccapacity',\n",
       "       'log_kilowatts', 'sqrt_mmcode', 'scaled_log_cubiccapacity',\n",
       "       'scaled_log_kilowatts', 'scaled_sqrt_mmcode'],\n",
       "      dtype='object')"
      ]
     },
     "execution_count": 19,
     "metadata": {},
     "output_type": "execute_result"
    }
   ],
   "source": [
    "data.columns"
   ]
  },
  {
   "cell_type": "markdown",
   "metadata": {},
   "source": [
    "A good measure of risk is the TotalClaims column, which represents the total claims made per policy."
   ]
  },
  {
   "cell_type": "code",
   "execution_count": 20,
   "metadata": {},
   "outputs": [],
   "source": [
    "data['ProfitMargin'] = data['TotalPremium'] - data['TotalClaims']"
   ]
  },
  {
   "cell_type": "markdown",
   "metadata": {},
   "source": [
    "### Data Segmentation"
   ]
  },
  {
   "cell_type": "markdown",
   "metadata": {},
   "source": [
    "#### Provinces"
   ]
  },
  {
   "cell_type": "code",
   "execution_count": 21,
   "metadata": {},
   "outputs": [],
   "source": [
    "group_province_a = data[data['Province'] == 'Gauteng']\n",
    "group_province_b = data[data['Province'] == 'KwaZulu-Natal']"
   ]
  },
  {
   "cell_type": "markdown",
   "metadata": {},
   "source": [
    "#### Gender"
   ]
  },
  {
   "cell_type": "code",
   "execution_count": 22,
   "metadata": {},
   "outputs": [],
   "source": [
    "group_male = data[data['Gender'] == 'Male']\n",
    "group_female = data[data['Gender'] == 'Female']"
   ]
  },
  {
   "cell_type": "markdown",
   "metadata": {},
   "source": [
    "### Statistical Testing"
   ]
  },
  {
   "cell_type": "markdown",
   "metadata": {},
   "source": [
    "#### t-test for Risk Differences Across Provinces"
   ]
  },
  {
   "cell_type": "code",
   "execution_count": 23,
   "metadata": {},
   "outputs": [
    {
     "name": "stdout",
     "output_type": "stream",
     "text": [
      "T-statistic: -1.2957062182938806, P-value: 0.19507724904787543\n"
     ]
    }
   ],
   "source": [
    "from scipy.stats import ttest_ind\n",
    "\n",
    "# Perform a t-test\n",
    "t_stat, p_value = ttest_ind(group_province_a['TotalClaims'], group_province_b['TotalClaims'])\n",
    "\n",
    "print(f\"T-statistic: {t_stat}, P-value: {p_value}\")"
   ]
  },
  {
   "cell_type": "markdown",
   "metadata": {},
   "source": [
    "#### t-test for Risk Differences Between Men and Women:"
   ]
  },
  {
   "cell_type": "code",
   "execution_count": 24,
   "metadata": {},
   "outputs": [
    {
     "name": "stdout",
     "output_type": "stream",
     "text": [
      "T-statistic: -0.24803623812388725, P-value: 0.8041073961270343\n"
     ]
    }
   ],
   "source": [
    "# Perform a t-test\n",
    "t_stat, p_value = ttest_ind(group_male['TotalClaims'], group_female['TotalClaims'])\n",
    "\n",
    "print(f\"T-statistic: {t_stat}, P-value: {p_value}\")"
   ]
  },
  {
   "cell_type": "code",
   "execution_count": 27,
   "metadata": {},
   "outputs": [
    {
     "name": "stdout",
     "output_type": "stream",
     "text": [
      "F-statistic: 0.9409362422651795, P-value: 0.8948588787098132\n"
     ]
    }
   ],
   "source": [
    "from scipy.stats import f_oneway\n",
    "\n",
    "# Get unique zip codes\n",
    "unique_zip_codes = data['PostalCode'].unique()\n",
    "\n",
    "# Group data by zip code\n",
    "groups_zip = [data[data['PostalCode'] == zip_code]['TotalClaims'] for zip_code in unique_zip_codes]\n",
    "\n",
    "# Perform one-way ANOVA test\n",
    "f_stat, p_value = f_oneway(*groups_zip)\n",
    "\n",
    "print(f\"F-statistic: {f_stat}, P-value: {p_value}\")\n"
   ]
  },
  {
   "cell_type": "code",
   "execution_count": 29,
   "metadata": {},
   "outputs": [],
   "source": [
    "# Group by PostalCode and calculate average ProfitMargin\n",
    "grouped = data.groupby('PostalCode')['ProfitMargin'].apply(list)"
   ]
  },
  {
   "cell_type": "code",
   "execution_count": 30,
   "metadata": {},
   "outputs": [],
   "source": [
    "# Perform ANOVA test\n",
    "f_statistic, p_value = f_oneway(*grouped)"
   ]
  },
  {
   "cell_type": "code",
   "execution_count": 34,
   "metadata": {},
   "outputs": [
    {
     "name": "stdout",
     "output_type": "stream",
     "text": [
      "0.8754317030012804\n",
      "0.996773665457904\n"
     ]
    }
   ],
   "source": [
    "print(f_statistic)\n",
    "print(p_value)"
   ]
  }
 ],
 "metadata": {
  "kernelspec": {
   "display_name": ".venv",
   "language": "python",
   "name": "python3"
  },
  "language_info": {
   "codemirror_mode": {
    "name": "ipython",
    "version": 3
   },
   "file_extension": ".py",
   "mimetype": "text/x-python",
   "name": "python",
   "nbconvert_exporter": "python",
   "pygments_lexer": "ipython3",
   "version": "3.12.6"
  }
 },
 "nbformat": 4,
 "nbformat_minor": 2
}
